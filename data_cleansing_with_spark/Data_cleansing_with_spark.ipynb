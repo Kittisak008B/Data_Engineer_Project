{
  "cells": [
    {
      "cell_type": "markdown",
      "metadata": {
        "id": "FJwaja1cvB75"
      },
      "source": [
        "# Install Spark and download data"
      ]
    },
    {
      "cell_type": "code",
      "execution_count": null,
      "metadata": {
        "id": "0aHUGNE8iBdz"
      },
      "outputs": [],
      "source": [
        "!apt-get update                                                                          # Update packages inside the VM\n",
        "!apt-get install openjdk-8-jdk-headless -qq > /dev/null                                  # Install Java Development Kit (Required for installing Spark)\n",
        "!wget -q https://archive.apache.org/dist/spark/spark-3.5.1/spark-3.5.1-bin-hadoop3.tgz   # Install Spark 3.5.1\n",
        "!tar xzvf spark-3.5.1-bin-hadoop3.tgz                                                    # Unzip Spark 3.5.1 file\n",
        "!pip install -q findspark"
      ]
    },
    {
      "cell_type": "code",
      "execution_count": 1,
      "metadata": {
        "colab": {
          "base_uri": "https://localhost:8080/"
        },
        "id": "APSye_WLpsoU",
        "outputId": "232a121c-95d6-4848-a24e-d5ea037ec10d"
      },
      "outputs": [
        {
          "output_type": "stream",
          "name": "stdout",
          "text": [
            "Requirement already satisfied: pyspark==3.5.1 in /usr/local/lib/python3.10/dist-packages (3.5.1)\n",
            "Requirement already satisfied: py4j==0.10.9.7 in /usr/local/lib/python3.10/dist-packages (from pyspark==3.5.1) (0.10.9.7)\n"
          ]
        }
      ],
      "source": [
        "# Set enviroment variable\n",
        "import os\n",
        "os.environ[\"JAVA_HOME\"] = \"/usr/lib/jvm/java-8-openjdk-amd64\"\n",
        "os.environ[\"SPARK_HOME\"] = \"/content/spark-3.5.1-bin-hadoop3\"\n",
        "\n",
        "!pip install pyspark==3.5.1"
      ]
    },
    {
      "cell_type": "code",
      "execution_count": 2,
      "metadata": {
        "colab": {
          "base_uri": "https://localhost:8080/"
        },
        "id": "dziqqc8CqJS4",
        "outputId": "e2f31d2a-89a0-4042-d3e6-d5e07b7dd053"
      },
      "outputs": [
        {
          "output_type": "stream",
          "name": "stdout",
          "text": [
            "processor\t: 0\n",
            "vendor_id\t: GenuineIntel\n",
            "cpu family\t: 6\n",
            "model\t\t: 79\n",
            "model name\t: Intel(R) Xeon(R) CPU @ 2.20GHz\n",
            "stepping\t: 0\n",
            "microcode\t: 0xffffffff\n",
            "cpu MHz\t\t: 2200.204\n",
            "cache size\t: 56320 KB\n",
            "physical id\t: 0\n",
            "siblings\t: 2\n",
            "core id\t\t: 0\n",
            "cpu cores\t: 1\n",
            "apicid\t\t: 0\n",
            "initial apicid\t: 0\n",
            "fpu\t\t: yes\n",
            "fpu_exception\t: yes\n",
            "cpuid level\t: 13\n",
            "wp\t\t: yes\n",
            "flags\t\t: fpu vme de pse tsc msr pae mce cx8 apic sep mtrr pge mca cmov pat pse36 clflush mmx fxsr sse sse2 ss ht syscall nx pdpe1gb rdtscp lm constant_tsc rep_good nopl xtopology nonstop_tsc cpuid tsc_known_freq pni pclmulqdq ssse3 fma cx16 pcid sse4_1 sse4_2 x2apic movbe popcnt aes xsave avx f16c rdrand hypervisor lahf_lm abm 3dnowprefetch invpcid_single ssbd ibrs ibpb stibp fsgsbase tsc_adjust bmi1 hle avx2 smep bmi2 erms invpcid rtm rdseed adx smap xsaveopt arat md_clear arch_capabilities\n",
            "bugs\t\t: cpu_meltdown spectre_v1 spectre_v2 spec_store_bypass l1tf mds swapgs taa mmio_stale_data retbleed bhi\n",
            "bogomips\t: 4400.40\n",
            "clflush size\t: 64\n",
            "cache_alignment\t: 64\n",
            "address sizes\t: 46 bits physical, 48 bits virtual\n",
            "power management:\n",
            "\n",
            "processor\t: 1\n",
            "vendor_id\t: GenuineIntel\n",
            "cpu family\t: 6\n",
            "model\t\t: 79\n",
            "model name\t: Intel(R) Xeon(R) CPU @ 2.20GHz\n",
            "stepping\t: 0\n",
            "microcode\t: 0xffffffff\n",
            "cpu MHz\t\t: 2200.204\n",
            "cache size\t: 56320 KB\n",
            "physical id\t: 0\n",
            "siblings\t: 2\n",
            "core id\t\t: 0\n",
            "cpu cores\t: 1\n",
            "apicid\t\t: 1\n",
            "initial apicid\t: 1\n",
            "fpu\t\t: yes\n",
            "fpu_exception\t: yes\n",
            "cpuid level\t: 13\n",
            "wp\t\t: yes\n",
            "flags\t\t: fpu vme de pse tsc msr pae mce cx8 apic sep mtrr pge mca cmov pat pse36 clflush mmx fxsr sse sse2 ss ht syscall nx pdpe1gb rdtscp lm constant_tsc rep_good nopl xtopology nonstop_tsc cpuid tsc_known_freq pni pclmulqdq ssse3 fma cx16 pcid sse4_1 sse4_2 x2apic movbe popcnt aes xsave avx f16c rdrand hypervisor lahf_lm abm 3dnowprefetch invpcid_single ssbd ibrs ibpb stibp fsgsbase tsc_adjust bmi1 hle avx2 smep bmi2 erms invpcid rtm rdseed adx smap xsaveopt arat md_clear arch_capabilities\n",
            "bugs\t\t: cpu_meltdown spectre_v1 spectre_v2 spec_store_bypass l1tf mds swapgs taa mmio_stale_data retbleed bhi\n",
            "bogomips\t: 4400.40\n",
            "clflush size\t: 64\n",
            "cache_alignment\t: 64\n",
            "address sizes\t: 46 bits physical, 48 bits virtual\n",
            "power management:\n",
            "\n"
          ]
        }
      ],
      "source": [
        "# Show the processor of Google Colab\n",
        "!cat /proc/cpuinfo"
      ]
    },
    {
      "cell_type": "code",
      "execution_count": 3,
      "metadata": {
        "id": "aP3b3f8qqT2r"
      },
      "outputs": [],
      "source": [
        "# create a session for using Spark\n",
        "from pyspark.sql import SparkSession\n",
        "spark = SparkSession.builder.master(\"local[*]\").appName(\"data_cleansing_App\").getOrCreate()  #local[*] use all available processors\n",
        "\n"
      ]
    },
    {
      "cell_type": "code",
      "execution_count": 4,
      "metadata": {
        "colab": {
          "base_uri": "https://localhost:8080/"
        },
        "id": "9fCaCaXNrLHU",
        "outputId": "f2f544d1-a114-4933-c8bb-5cf54cee5044"
      },
      "outputs": [
        {
          "output_type": "execute_result",
          "data": {
            "text/plain": [
              "sys.version_info(major=3, minor=10, micro=12, releaselevel='final', serial=0)"
            ]
          },
          "metadata": {},
          "execution_count": 4
        }
      ],
      "source": [
        "# check Python version\n",
        "import sys\n",
        "sys.version_info"
      ]
    },
    {
      "cell_type": "code",
      "execution_count": 5,
      "metadata": {
        "colab": {
          "base_uri": "https://localhost:8080/",
          "height": 36
        },
        "id": "Sfl4Fiv2rZZ9",
        "outputId": "82aa639d-42e5-42d8-ea37-a19633e77fe5"
      },
      "outputs": [
        {
          "output_type": "execute_result",
          "data": {
            "text/plain": [
              "'3.5.1'"
            ],
            "application/vnd.google.colaboratory.intrinsic+json": {
              "type": "string"
            }
          },
          "metadata": {},
          "execution_count": 5
        }
      ],
      "source": [
        "# check Spark version\n",
        "spark.version"
      ]
    },
    {
      "cell_type": "code",
      "execution_count": 6,
      "metadata": {
        "colab": {
          "base_uri": "https://localhost:8080/"
        },
        "id": "EUwi3zCzrh08",
        "outputId": "d2e3e879-f4a7-43e5-ddfe-303ba0437269"
      },
      "outputs": [
        {
          "output_type": "stream",
          "name": "stdout",
          "text": [
            "--2024-08-09 18:30:12--  https://file.designil.com/f/6BamyF+\n",
            "Resolving file.designil.com (file.designil.com)... 172.67.130.97, 104.21.8.81, 2606:4700:3035::ac43:8261, ...\n",
            "Connecting to file.designil.com (file.designil.com)|172.67.130.97|:443... connected.\n",
            "HTTP request sent, awaiting response... 302 Found\n",
            "Location: https://cdn-std.droplr.net/files/acc_513973/6BamyF [following]\n",
            "--2024-08-09 18:30:12--  https://cdn-std.droplr.net/files/acc_513973/6BamyF\n",
            "Resolving cdn-std.droplr.net (cdn-std.droplr.net)... 108.138.94.96, 108.138.94.56, 108.138.94.90, ...\n",
            "Connecting to cdn-std.droplr.net (cdn-std.droplr.net)|108.138.94.96|:443... connected.\n",
            "HTTP request sent, awaiting response... 200 OK\n",
            "Length: 6040473 (5.8M) [application/octet-stream]\n",
            "Saving to: ‘w2_input.parquet’\n",
            "\n",
            "w2_input.parquet    100%[===================>]   5.76M  --.-KB/s    in 0.1s    \n",
            "\n",
            "2024-08-09 18:30:12 (54.5 MB/s) - ‘w2_input.parquet’ saved [6040473/6040473]\n",
            "\n"
          ]
        }
      ],
      "source": [
        "# load the data file\n",
        "!wget https://file.designil.com/f/6BamyF+ -O w2_input.parquet"
      ]
    },
    {
      "cell_type": "code",
      "execution_count": 7,
      "metadata": {
        "colab": {
          "base_uri": "https://localhost:8080/"
        },
        "id": "9Q7bccJWsM9p",
        "outputId": "16447dbb-ebb1-4ff0-f900-d6657e4bc023"
      },
      "outputs": [
        {
          "output_type": "execute_result",
          "data": {
            "text/plain": [
              "DataFrame[transaction_id: string, date: string, product_id: string, price: double, quantity: bigint, customer_id: double, product_name: string, customer_country: string, customer_name: string, total_amount: double, thb_amount: double]"
            ]
          },
          "metadata": {},
          "execution_count": 7
        }
      ],
      "source": [
        "dt_raw= spark.read.parquet('w2_input.parquet')\n",
        "dt_raw"
      ]
    },
    {
      "cell_type": "code",
      "source": [
        "dt = dt_raw.select(\"transaction_id\", \"date\",\"product_id\",\"price\",\"quantity\",\"customer_id\",\"customer_country\",\"total_amount\")"
      ],
      "metadata": {
        "id": "W2DDgwoZQ-iK"
      },
      "execution_count": 8,
      "outputs": []
    },
    {
      "cell_type": "markdown",
      "metadata": {
        "id": "h1PurXynsi6J"
      },
      "source": [
        "# Data Profiling\n",
        "\n",
        "\n"
      ]
    },
    {
      "cell_type": "code",
      "execution_count": 9,
      "metadata": {
        "colab": {
          "base_uri": "https://localhost:8080/"
        },
        "id": "Kktlj0C5tpA4",
        "outputId": "71790ba5-8494-448e-deeb-31fc290a3624"
      },
      "outputs": [
        {
          "output_type": "stream",
          "name": "stdout",
          "text": [
            "+--------------+----------+----------+-----+--------+-----------+----------------+------------------+\n",
            "|transaction_id|date      |product_id|price|quantity|customer_id|customer_country|total_amount      |\n",
            "+--------------+----------+----------+-----+--------+-----------+----------------+------------------+\n",
            "|581482        |2024-05-10|22485     |21.47|12      |17490.0    |United Kingdom  |257.64            |\n",
            "|581475        |2024-05-10|22596     |10.65|36      |13069.0    |United Kingdom  |383.40000000000003|\n",
            "|581475        |2024-05-10|23235     |11.53|12      |13069.0    |United Kingdom  |138.35999999999999|\n",
            "|581475        |2024-05-10|23272     |10.65|12      |13069.0    |United Kingdom  |127.80000000000001|\n",
            "|581475        |2024-05-10|23239     |11.94|6       |13069.0    |United Kingdom  |71.64             |\n",
            "|581475        |2024-05-10|21705     |10.65|24      |13069.0    |United Kingdom  |255.60000000000002|\n",
            "|581475        |2024-05-10|22118     |11.53|18      |13069.0    |United Kingdom  |207.54            |\n",
            "|581475        |2024-05-10|22119     |12.25|12      |13069.0    |United Kingdom  |147.0             |\n",
            "|581475        |2024-05-10|22217     |10.65|12      |13069.0    |United Kingdom  |127.80000000000001|\n",
            "|581475        |2024-05-10|22216     |10.55|24      |13069.0    |United Kingdom  |253.20000000000002|\n",
            "|581475        |2024-05-10|22380     |11.06|20      |13069.0    |United Kingdom  |221.20000000000002|\n",
            "|581475        |2024-05-10|22442     |12.25|12      |13069.0    |United Kingdom  |147.0             |\n",
            "|581475        |2024-05-10|22664     |11.06|20      |13069.0    |United Kingdom  |221.20000000000002|\n",
            "|581475        |2024-05-10|22721     |12.25|12      |13069.0    |United Kingdom  |147.0             |\n",
            "|581475        |2024-05-10|22723     |11.53|12      |13069.0    |United Kingdom  |138.35999999999999|\n",
            "|581475        |2024-05-10|22785     |11.53|12      |13069.0    |United Kingdom  |138.35999999999999|\n",
            "|581475        |2024-05-10|22955     |11.06|24      |13069.0    |United Kingdom  |265.44            |\n",
            "|581475        |2024-05-10|23141     |11.06|12      |13069.0    |United Kingdom  |132.72            |\n",
            "|581475        |2024-05-10|22956     |11.06|24      |13069.0    |United Kingdom  |265.44            |\n",
            "|581475        |2024-05-10|22581     |10.55|48      |13069.0    |United Kingdom  |506.40000000000003|\n",
            "+--------------+----------+----------+-----+--------+-----------+----------------+------------------+\n",
            "only showing top 20 rows\n",
            "\n"
          ]
        }
      ],
      "source": [
        "dt.show(20, truncate = False)"
      ]
    },
    {
      "cell_type": "code",
      "execution_count": 10,
      "metadata": {
        "colab": {
          "base_uri": "https://localhost:8080/"
        },
        "id": "hhPvKmePse8h",
        "outputId": "2ee97ef5-bca0-46e8-97c5-5505ad56606d"
      },
      "outputs": [
        {
          "output_type": "execute_result",
          "data": {
            "text/plain": [
              "[('transaction_id', 'string'),\n",
              " ('date', 'string'),\n",
              " ('product_id', 'string'),\n",
              " ('price', 'double'),\n",
              " ('quantity', 'bigint'),\n",
              " ('customer_id', 'double'),\n",
              " ('customer_country', 'string'),\n",
              " ('total_amount', 'double')]"
            ]
          },
          "metadata": {},
          "execution_count": 10
        }
      ],
      "source": [
        "dt.dtypes"
      ]
    },
    {
      "cell_type": "code",
      "execution_count": 11,
      "metadata": {
        "colab": {
          "base_uri": "https://localhost:8080/"
        },
        "id": "eBh6kPbaso7k",
        "outputId": "e5bb3000-56e0-4098-cae1-a17a8c8fd258"
      },
      "outputs": [
        {
          "output_type": "stream",
          "name": "stdout",
          "text": [
            "root\n",
            " |-- transaction_id: string (nullable = true)\n",
            " |-- date: string (nullable = true)\n",
            " |-- product_id: string (nullable = true)\n",
            " |-- price: double (nullable = true)\n",
            " |-- quantity: long (nullable = true)\n",
            " |-- customer_id: double (nullable = true)\n",
            " |-- customer_country: string (nullable = true)\n",
            " |-- total_amount: double (nullable = true)\n",
            "\n"
          ]
        }
      ],
      "source": [
        "dt.printSchema()"
      ]
    },
    {
      "cell_type": "code",
      "execution_count": 12,
      "metadata": {
        "colab": {
          "base_uri": "https://localhost:8080/"
        },
        "id": "3P2beYcltR9h",
        "outputId": "e588e5ee-fe6b-441f-8199-a7e0d8432ef5"
      },
      "outputs": [
        {
          "output_type": "stream",
          "name": "stdout",
          "text": [
            "(536350, 8)\n"
          ]
        }
      ],
      "source": [
        "print((dt.count(), len(dt.columns)))"
      ]
    },
    {
      "cell_type": "code",
      "execution_count": 13,
      "metadata": {
        "colab": {
          "base_uri": "https://localhost:8080/"
        },
        "id": "rBnSciPJtbVK",
        "outputId": "a94147d7-0510-4650-982c-30189d8e57b6"
      },
      "outputs": [
        {
          "output_type": "stream",
          "name": "stdout",
          "text": [
            "+-------+----------+------------------+------------------+------------------+------------------+------------------+\n",
            "|summary|      date|        product_id|             price|          quantity|       customer_id|      total_amount|\n",
            "+-------+----------+------------------+------------------+------------------+------------------+------------------+\n",
            "|  count|    536350|            536350|            536350|            536350|            536295|            536350|\n",
            "|   mean|      NULL|27501.334602703962|12.662182287696377| 9.919347441036637|15227.893178194838|112.38934326462667|\n",
            "| stddev|      NULL|16621.547250098723| 8.490450200816936|216.66229978946325|1716.5829320559255|2277.3839092737658|\n",
            "|    min|2023-05-03|             10002|              5.13|            -80995|           12004.0|         -840113.8|\n",
            "|    max|2024-05-10|            90214Z|            660.62|             80995|           18287.0|1002718.1000000001|\n",
            "+-------+----------+------------------+------------------+------------------+------------------+------------------+\n",
            "\n"
          ]
        }
      ],
      "source": [
        "dt.select(\"date\",\"product_id\",\"price\",\"quantity\",\"customer_id\",\"total_amount\").describe().show()"
      ]
    },
    {
      "cell_type": "code",
      "execution_count": 14,
      "metadata": {
        "colab": {
          "base_uri": "https://localhost:8080/"
        },
        "id": "ToKsIFt3tmY1",
        "outputId": "730fbf58-4542-4477-cd38-3f9bd2027497"
      },
      "outputs": [
        {
          "output_type": "stream",
          "name": "stdout",
          "text": [
            "+-------+----------+------------------+------------------+------------------+------------------+------------------+\n",
            "|summary|      date|        product_id|             price|          quantity|       customer_id|      total_amount|\n",
            "+-------+----------+------------------+------------------+------------------+------------------+------------------+\n",
            "|  count|    536350|            536350|            536350|            536350|            536295|            536350|\n",
            "|   mean|      NULL|27501.334602703962|12.662182287696377| 9.919347441036637|15227.893178194838|112.38934326462667|\n",
            "| stddev|      NULL|16621.547250098723| 8.490450200816936|216.66229978946325|1716.5829320559255|2277.3839092737658|\n",
            "|    min|2023-05-03|             10002|              5.13|            -80995|           12004.0|         -840113.8|\n",
            "|    25%|      NULL|           21929.0|             10.99|                 1|           13808.0|             16.18|\n",
            "|    50%|      NULL|           22568.0|             11.94|                 3|           15152.0|             42.72|\n",
            "|    75%|      NULL|           23159.0|             14.09|                10|           16729.0|            116.47|\n",
            "|    max|2024-05-10|            90214Z|            660.62|             80995|           18287.0|1002718.1000000001|\n",
            "+-------+----------+------------------+------------------+------------------+------------------+------------------+\n",
            "\n"
          ]
        }
      ],
      "source": [
        "dt.select(\"date\",\"product_id\",\"price\",\"quantity\",\"customer_id\",\"total_amount\").summary().show()"
      ]
    },
    {
      "cell_type": "code",
      "execution_count": 15,
      "metadata": {
        "colab": {
          "base_uri": "https://localhost:8080/"
        },
        "id": "cd_bq-4Kt04N",
        "outputId": "52aa2398-8edb-4456-9079-a978e86ab2ef"
      },
      "outputs": [
        {
          "output_type": "stream",
          "name": "stdout",
          "text": [
            "+-------+------------------+\n",
            "|summary|             price|\n",
            "+-------+------------------+\n",
            "|  count|            536350|\n",
            "|   mean|12.662182287696377|\n",
            "| stddev| 8.490450200816936|\n",
            "|    min|              5.13|\n",
            "|    max|            660.62|\n",
            "+-------+------------------+\n",
            "\n"
          ]
        }
      ],
      "source": [
        "dt.select(\"price\").describe().show()\n"
      ]
    },
    {
      "cell_type": "code",
      "execution_count": 16,
      "metadata": {
        "colab": {
          "base_uri": "https://localhost:8080/"
        },
        "id": "JaH5nglqt8OV",
        "outputId": "4db45a9a-61f1-4941-c2ad-b5de7f11fa7d"
      },
      "outputs": [
        {
          "output_type": "stream",
          "name": "stdout",
          "text": [
            "+-------+--------------+------+----------+------+--------+-----------+----------------+------------+\n",
            "|summary|transaction_id|  date|product_id| price|quantity|customer_id|customer_country|total_amount|\n",
            "+-------+--------------+------+----------+------+--------+-----------+----------------+------------+\n",
            "|  count|        536350|536350|    536350|536350|  536350|     536295|          536350|      536350|\n",
            "+-------+--------------+------+----------+------+--------+-----------+----------------+------------+\n",
            "\n"
          ]
        }
      ],
      "source": [
        "# Find missing values\n",
        "dt.summary(\"count\").show()\n"
      ]
    },
    {
      "cell_type": "code",
      "execution_count": 17,
      "metadata": {
        "colab": {
          "base_uri": "https://localhost:8080/"
        },
        "id": "L7EThRn3uNYV",
        "outputId": "de9a7789-20bb-41ae-d5cb-d3038860e85a"
      },
      "outputs": [
        {
          "output_type": "stream",
          "name": "stdout",
          "text": [
            "+--------------+----------+----------+-----+--------+-----------+----------------+-------------------+\n",
            "|transaction_id|      date|product_id|price|quantity|customer_id|customer_country|       total_amount|\n",
            "+--------------+----------+----------+-----+--------+-----------+----------------+-------------------+\n",
            "|       C581406|2024-05-09|    46000M| 6.19|    -240|       NULL|  United Kingdom|-1485.6000000000001|\n",
            "|       C581406|2024-05-09|    46000S| 6.19|    -300|       NULL|  United Kingdom|-1857.0000000000002|\n",
            "|       C575153|2024-04-09|     22947|44.25|      -1|       NULL|  United Kingdom|             -44.25|\n",
            "|       C574288|2024-04-04|     22178|25.37|      -1|       NULL|  United Kingdom|             -25.37|\n",
            "|       C573180|2024-03-29|     23048| 14.5|      -1|       NULL|  United Kingdom|              -14.5|\n",
            "|       C569495|2024-03-05|     21843|21.47|      -1|       NULL|  United Kingdom|             -21.47|\n",
            "|       C567518|2024-02-20|     22846|27.62|      -1|       NULL|  United Kingdom|             -27.62|\n",
            "|       C567518|2024-02-20|     21871|11.94|     -12|       NULL|  United Kingdom|            -143.28|\n",
            "|       C563015|2024-01-11|    46000M|10.25|    -160|       NULL|  United Kingdom|            -1640.0|\n",
            "|       C563015|2024-01-11|    46000S|10.25|    -220|       NULL|  United Kingdom|            -2255.0|\n",
            "|       C562617|2024-01-08|     23243|15.32|      -2|       NULL|  United Kingdom|             -30.64|\n",
            "|       C561966|2024-01-01|     22371|14.48|      -1|       NULL|  United Kingdom|             -14.48|\n",
            "|       C562030|2024-01-01|    84595E|13.62|      -1|       NULL|  United Kingdom|             -13.62|\n",
            "|       C561239|2023-12-26|     22427|16.35|      -1|       NULL|  United Kingdom|             -16.35|\n",
            "|       C561239|2023-12-26|     22426|14.09|      -1|       NULL|  United Kingdom|             -14.09|\n",
            "|       C561239|2023-12-26|     84755|10.92|      -4|       NULL|  United Kingdom|             -43.68|\n",
            "|       C559949|2023-12-14|     22699|13.27|      -2|       NULL|  United Kingdom|             -26.54|\n",
            "|       C559296|2023-12-07|     23001|10.25|    -200|       NULL|  United Kingdom|            -2050.0|\n",
            "|       C559296|2023-12-07|     22616|10.25|    -204|       NULL|  United Kingdom|            -2091.0|\n",
            "|       C559296|2023-12-07|     23298|10.25|    -170|       NULL|  United Kingdom|            -1742.5|\n",
            "+--------------+----------+----------+-----+--------+-----------+----------------+-------------------+\n",
            "only showing top 20 rows\n",
            "\n"
          ]
        }
      ],
      "source": [
        "# Display rows that have missing values\n",
        "dt.where( dt.customer_id.isNull() ).show()"
      ]
    },
    {
      "cell_type": "markdown",
      "metadata": {
        "id": "WGv_dvY8vyIY"
      },
      "source": [
        "# EDA - Exploratory Data Analysis"
      ]
    },
    {
      "cell_type": "code",
      "execution_count": 18,
      "metadata": {
        "colab": {
          "base_uri": "https://localhost:8080/"
        },
        "id": "57LgtZKTvzQA",
        "outputId": "25483ab4-def3-440e-b6e9-f946ef9b9ffd"
      },
      "outputs": [
        {
          "output_type": "stream",
          "name": "stdout",
          "text": [
            "+--------------+----------+----------+------+--------+-----------+----------------+------------+\n",
            "|transaction_id|      date|product_id| price|quantity|customer_id|customer_country|total_amount|\n",
            "+--------------+----------+----------+------+--------+-----------+----------------+------------+\n",
            "|        554836|2023-10-26|     22655|660.62|       1|    13015.0|  United Kingdom|      660.62|\n",
            "|        551393|2023-09-28|     22656|660.62|       1|    14973.0|  United Kingdom|      660.62|\n",
            "|        547814|2023-08-25|     22656|660.62|       1|    13452.0|  United Kingdom|      660.62|\n",
            "|        546480|2023-08-14|     22656|660.62|       1|    13452.0|  United Kingdom|      660.62|\n",
            "|        545759|2023-08-07|     22656|660.62|       2|    16316.0|  United Kingdom|     1321.24|\n",
            "+--------------+----------+----------+------+--------+-----------+----------------+------------+\n",
            "only showing top 5 rows\n",
            "\n"
          ]
        }
      ],
      "source": [
        "dt.where(dt.price >= 600).show(5)"
      ]
    },
    {
      "cell_type": "code",
      "execution_count": 19,
      "metadata": {
        "colab": {
          "base_uri": "https://localhost:8080/"
        },
        "id": "XpcQewegwaz9",
        "outputId": "946fdf50-8d38-4e90-bc40-0daecd226156"
      },
      "outputs": [
        {
          "output_type": "stream",
          "name": "stdout",
          "text": [
            "+--------------+----------+----------+-----+--------+-----------+----------------+------------------+\n",
            "|transaction_id|      date|product_id|price|quantity|customer_id|customer_country|      total_amount|\n",
            "+--------------+----------+----------+-----+--------+-----------+----------------+------------------+\n",
            "|        578459|2024-04-25|     22338| 6.19|      96|    12388.0|       Australia|            594.24|\n",
            "|        578459|2024-04-25|     22600| 6.19|      20|    12388.0|       Australia|123.80000000000001|\n",
            "|        578459|2024-04-25|     22910| 6.19|      20|    12388.0|       Australia|123.80000000000001|\n",
            "|        578459|2024-04-25|     22086| 6.19|      20|    12388.0|       Australia|123.80000000000001|\n",
            "|        578459|2024-04-25|     22340| 6.19|      24|    12388.0|       Australia|            148.56|\n",
            "+--------------+----------+----------+-----+--------+-----------+----------------+------------------+\n",
            "only showing top 5 rows\n",
            "\n"
          ]
        }
      ],
      "source": [
        "dt.where(dt.customer_country == 'Australia').show(5)"
      ]
    },
    {
      "cell_type": "code",
      "execution_count": 20,
      "metadata": {
        "colab": {
          "base_uri": "https://localhost:8080/"
        },
        "id": "2_0TQQKVweIY",
        "outputId": "386459e0-6c3f-41ce-d80f-7e162736cc80"
      },
      "outputs": [
        {
          "output_type": "execute_result",
          "data": {
            "text/plain": [
              "28771"
            ]
          },
          "metadata": {},
          "execution_count": 20
        }
      ],
      "source": [
        "dt.where( dt.date.startswith(\"2024-05\") ).count()"
      ]
    },
    {
      "cell_type": "code",
      "execution_count": 21,
      "metadata": {
        "id": "p0og7vFvwjG_"
      },
      "outputs": [],
      "source": [
        "import seaborn as sns\n",
        "import matplotlib.pyplot as plt\n",
        "import pandas as pd"
      ]
    },
    {
      "cell_type": "code",
      "execution_count": 22,
      "metadata": {
        "id": "kYqb_8Npwnw5"
      },
      "outputs": [],
      "source": [
        "# Convert Spark DataFrame to Pandas DataFrame\n",
        "dt_pd = dt.toPandas()\n"
      ]
    },
    {
      "cell_type": "code",
      "execution_count": 23,
      "metadata": {
        "colab": {
          "base_uri": "https://localhost:8080/",
          "height": 449
        },
        "id": "jHMMdN_5xBGT",
        "outputId": "22dcdb35-2bda-4e1b-f2e6-ee3d45bd1403"
      },
      "outputs": [
        {
          "output_type": "display_data",
          "data": {
            "text/plain": [
              "<Figure size 640x480 with 1 Axes>"
            ],
            "image/png": "[encoded data removed]"
          },
          "metadata": {}
        }
      ],
      "source": [
        "# Boxplot\n",
        "sns.boxplot(x = dt_pd['price']) ;"
      ]
    },
    {
      "cell_type": "code",
      "execution_count": 24,
      "metadata": {
        "colab": {
          "base_uri": "https://localhost:8080/",
          "height": 449
        },
        "id": "sL2jRKuMxVfx",
        "outputId": "02a9bfac-0181-4eb8-b106-5c4a94ae4236"
      },
      "outputs": [
        {
          "output_type": "display_data",
          "data": {
            "text/plain": [
              "<Figure size 640x480 with 1 Axes>"
            ],
            "image/png": "[encoded data removed]"
          },
          "metadata": {}
        }
      ],
      "source": [
        "# Histogram\n",
        "sns.histplot(dt_pd['price'], bins=50) ;"
      ]
    },
    {
      "cell_type": "code",
      "execution_count": 25,
      "metadata": {
        "colab": {
          "base_uri": "https://localhost:8080/",
          "height": 449
        },
        "id": "bocpYPMIxlu6",
        "outputId": "0c3cca4c-6445-4a9b-d18d-4c15fe519510"
      },
      "outputs": [
        {
          "output_type": "display_data",
          "data": {
            "text/plain": [
              "<Figure size 640x480 with 1 Axes>"
            ],
            "image/png": "[encoded data removed]"
          },
          "metadata": {}
        }
      ],
      "source": [
        "sns.histplot(dt_pd[dt_pd['price'] < 40]['price'], bins=10) ;"
      ]
    },
    {
      "cell_type": "code",
      "execution_count": 26,
      "metadata": {
        "colab": {
          "base_uri": "https://localhost:8080/",
          "height": 449
        },
        "id": "xM95aIz_xo_n",
        "outputId": "b990a9d3-cf70-453b-ad2b-c1b7e517a875"
      },
      "outputs": [
        {
          "output_type": "display_data",
          "data": {
            "text/plain": [
              "<Figure size 640x480 with 1 Axes>"
            ],
            "image/png": "[encoded data removed]"
          },
          "metadata": {}
        }
      ],
      "source": [
        "# Scatterplot - show relationship between two variables\n",
        "sns.scatterplot(x=dt_pd.quantity, y=dt_pd.price) ;"
      ]
    },
    {
      "cell_type": "markdown",
      "metadata": {
        "id": "bOwbc9FHx9wz"
      },
      "source": [
        "# Data Cleansing with PySpark"
      ]
    },
    {
      "cell_type": "code",
      "execution_count": 27,
      "metadata": {
        "colab": {
          "base_uri": "https://localhost:8080/"
        },
        "id": "ni1MBU6hx-07",
        "outputId": "2bee5964-be5b-4033-c7bf-f968ed4b36b7"
      },
      "outputs": [
        {
          "output_type": "stream",
          "name": "stdout",
          "text": [
            "root\n",
            " |-- transaction_id: string (nullable = true)\n",
            " |-- date: string (nullable = true)\n",
            " |-- product_id: string (nullable = true)\n",
            " |-- price: double (nullable = true)\n",
            " |-- quantity: long (nullable = true)\n",
            " |-- customer_id: double (nullable = true)\n",
            " |-- customer_country: string (nullable = true)\n",
            " |-- total_amount: double (nullable = true)\n",
            "\n"
          ]
        }
      ],
      "source": [
        "dt.printSchema()"
      ]
    },
    {
      "cell_type": "code",
      "execution_count": 28,
      "metadata": {
        "colab": {
          "base_uri": "https://localhost:8080/"
        },
        "id": "T4GAe7i_0Pu7",
        "outputId": "faf56bda-6611-46e7-9058-f8341eb609fa"
      },
      "outputs": [
        {
          "output_type": "stream",
          "name": "stdout",
          "text": [
            "+--------------+-------------------+----------+-----+--------+-----------+----------------+------------------+\n",
            "|transaction_id|               date|product_id|price|quantity|customer_id|customer_country|      total_amount|\n",
            "+--------------+-------------------+----------+-----+--------+-----------+----------------+------------------+\n",
            "|        581482|2024-05-10 00:00:00|     22485|21.47|      12|    17490.0|  United Kingdom|            257.64|\n",
            "|        581475|2024-05-10 00:00:00|     22596|10.65|      36|    13069.0|  United Kingdom|383.40000000000003|\n",
            "|        581475|2024-05-10 00:00:00|     23235|11.53|      12|    13069.0|  United Kingdom|138.35999999999999|\n",
            "|        581475|2024-05-10 00:00:00|     23272|10.65|      12|    13069.0|  United Kingdom|127.80000000000001|\n",
            "|        581475|2024-05-10 00:00:00|     23239|11.94|       6|    13069.0|  United Kingdom|             71.64|\n",
            "|        581475|2024-05-10 00:00:00|     21705|10.65|      24|    13069.0|  United Kingdom|255.60000000000002|\n",
            "|        581475|2024-05-10 00:00:00|     22118|11.53|      18|    13069.0|  United Kingdom|            207.54|\n",
            "|        581475|2024-05-10 00:00:00|     22119|12.25|      12|    13069.0|  United Kingdom|             147.0|\n",
            "|        581475|2024-05-10 00:00:00|     22217|10.65|      12|    13069.0|  United Kingdom|127.80000000000001|\n",
            "|        581475|2024-05-10 00:00:00|     22216|10.55|      24|    13069.0|  United Kingdom|253.20000000000002|\n",
            "|        581475|2024-05-10 00:00:00|     22380|11.06|      20|    13069.0|  United Kingdom|221.20000000000002|\n",
            "|        581475|2024-05-10 00:00:00|     22442|12.25|      12|    13069.0|  United Kingdom|             147.0|\n",
            "|        581475|2024-05-10 00:00:00|     22664|11.06|      20|    13069.0|  United Kingdom|221.20000000000002|\n",
            "|        581475|2024-05-10 00:00:00|     22721|12.25|      12|    13069.0|  United Kingdom|             147.0|\n",
            "|        581475|2024-05-10 00:00:00|     22723|11.53|      12|    13069.0|  United Kingdom|138.35999999999999|\n",
            "|        581475|2024-05-10 00:00:00|     22785|11.53|      12|    13069.0|  United Kingdom|138.35999999999999|\n",
            "|        581475|2024-05-10 00:00:00|     22955|11.06|      24|    13069.0|  United Kingdom|            265.44|\n",
            "|        581475|2024-05-10 00:00:00|     23141|11.06|      12|    13069.0|  United Kingdom|            132.72|\n",
            "|        581475|2024-05-10 00:00:00|     22956|11.06|      24|    13069.0|  United Kingdom|            265.44|\n",
            "|        581475|2024-05-10 00:00:00|     22581|10.55|      48|    13069.0|  United Kingdom|506.40000000000003|\n",
            "+--------------+-------------------+----------+-----+--------+-----------+----------------+------------------+\n",
            "only showing top 20 rows\n",
            "\n"
          ]
        }
      ],
      "source": [
        "# Convert a string column to a datetime\n",
        "from pyspark.sql import functions as f\n",
        "\n",
        "dt_clean = dt.withColumn(\"date\" , f.to_timestamp(dt.date, 'yyyy-MM-dd'))\n",
        "dt_clean.show()"
      ]
    },
    {
      "cell_type": "code",
      "execution_count": 29,
      "metadata": {
        "colab": {
          "base_uri": "https://localhost:8080/"
        },
        "id": "YkMnAOGm08aZ",
        "outputId": "26a7ce18-a033-4a28-8cbc-32734cd46772"
      },
      "outputs": [
        {
          "output_type": "stream",
          "name": "stdout",
          "text": [
            "+-------------------+-------------------+\n",
            "|          min(date)|          max(date)|\n",
            "+-------------------+-------------------+\n",
            "|2023-05-03 00:00:00|2024-05-10 00:00:00|\n",
            "+-------------------+-------------------+\n",
            "\n"
          ]
        }
      ],
      "source": [
        "dt_clean.select(f.min(dt_clean.date) , f.max(dt_clean.date)).show()"
      ]
    },
    {
      "cell_type": "code",
      "execution_count": 30,
      "metadata": {
        "colab": {
          "base_uri": "https://localhost:8080/"
        },
        "id": "iK0sSYTx00_0",
        "outputId": "f3379636-2de2-4d3c-9b4d-76150f8753dd"
      },
      "outputs": [
        {
          "output_type": "stream",
          "name": "stdout",
          "text": [
            "root\n",
            " |-- transaction_id: string (nullable = true)\n",
            " |-- date: timestamp (nullable = true)\n",
            " |-- product_id: string (nullable = true)\n",
            " |-- price: double (nullable = true)\n",
            " |-- quantity: long (nullable = true)\n",
            " |-- customer_id: double (nullable = true)\n",
            " |-- customer_country: string (nullable = true)\n",
            " |-- total_amount: double (nullable = true)\n",
            "\n"
          ]
        }
      ],
      "source": [
        "dt_clean.printSchema()"
      ]
    },
    {
      "cell_type": "code",
      "execution_count": 31,
      "metadata": {
        "colab": {
          "base_uri": "https://localhost:8080/"
        },
        "id": "KJg-Ot--1N5X",
        "outputId": "ee24631e-29f0-407f-c3bd-4811b43dbf81"
      },
      "outputs": [
        {
          "output_type": "execute_result",
          "data": {
            "text/plain": [
              "16398"
            ]
          },
          "metadata": {},
          "execution_count": 31
        }
      ],
      "source": [
        "# Count the total transactions for the first half of January 2024\n",
        "dt_clean.where( (f.dayofmonth(dt_clean.date) <= 15) & ( f.month(dt_clean.date) == 1 ) & ( f.year(dt_clean.date) == 2024 ) ).count()"
      ]
    },
    {
      "cell_type": "code",
      "execution_count": 32,
      "metadata": {
        "colab": {
          "base_uri": "https://localhost:8080/"
        },
        "id": "WjoUz2N81fMv",
        "outputId": "99aae453-a8c5-46a6-9dd4-c8964bbc0f66"
      },
      "outputs": [
        {
          "output_type": "execute_result",
          "data": {
            "text/plain": [
              "39"
            ]
          },
          "metadata": {},
          "execution_count": 32
        }
      ],
      "source": [
        "# Anomalies Check\n",
        "\n",
        "# Syntactical Anomalies -> Lexical errors\n",
        "\n",
        "dt_clean.select(\"customer_country\").distinct().count()"
      ]
    },
    {
      "cell_type": "code",
      "execution_count": 33,
      "metadata": {
        "colab": {
          "base_uri": "https://localhost:8080/"
        },
        "id": "kG4lCK361_xT",
        "outputId": "72e36a22-04fa-492d-9548-f3930ac7de22"
      },
      "outputs": [
        {
          "output_type": "stream",
          "name": "stdout",
          "text": [
            "+--------------------+\n",
            "|    customer_country|\n",
            "+--------------------+\n",
            "|           Australia|\n",
            "|             Austria|\n",
            "|             Bahrain|\n",
            "|             Belgium|\n",
            "|              Brazil|\n",
            "|              Canada|\n",
            "|     Channel Islands|\n",
            "|              Cyprus|\n",
            "|      Czech Republic|\n",
            "|             Denmark|\n",
            "|                EIRE|\n",
            "|  European Community|\n",
            "|             Finland|\n",
            "|              France|\n",
            "|             Germany|\n",
            "|              Greece|\n",
            "|           Hong Kong|\n",
            "|             Iceland|\n",
            "|              Israel|\n",
            "|               Italy|\n",
            "|               Japan|\n",
            "|              Japane|\n",
            "|             Lebanon|\n",
            "|           Lithuania|\n",
            "|               Malta|\n",
            "|         Netherlands|\n",
            "|              Norway|\n",
            "|              Poland|\n",
            "|            Portugal|\n",
            "|                 RSA|\n",
            "|        Saudi Arabia|\n",
            "|           Singapore|\n",
            "|               Spain|\n",
            "|              Sweden|\n",
            "|         Switzerland|\n",
            "|                 USA|\n",
            "|United Arab Emirates|\n",
            "|      United Kingdom|\n",
            "|         Unspecified|\n",
            "+--------------------+\n",
            "\n"
          ]
        }
      ],
      "source": [
        "# Find the name of the country incorrect -> japan\n",
        "dt_clean.select(\"customer_country\").distinct().sort(\"customer_country\").show( 40 )"
      ]
    },
    {
      "cell_type": "code",
      "execution_count": 34,
      "metadata": {
        "colab": {
          "base_uri": "https://localhost:8080/"
        },
        "id": "-gccMEPB2Jij",
        "outputId": "d81b4da6-c392-4dc3-ffb4-bbc029d6a856"
      },
      "outputs": [
        {
          "output_type": "stream",
          "name": "stdout",
          "text": [
            "+--------------+-------------------+----------+-----+--------+-----------+----------------+------------+\n",
            "|transaction_id|               date|product_id|price|quantity|customer_id|customer_country|total_amount|\n",
            "+--------------+-------------------+----------+-----+--------+-----------+----------------+------------+\n",
            "|        566623|2024-02-14 00:00:00|     21787|11.12|      72|    12756.0|          Japane|      800.64|\n",
            "|        566623|2024-02-14 00:00:00|     21786|10.68|      24|    12756.0|          Japane|      256.32|\n",
            "|        566623|2024-02-14 00:00:00|     21789|11.12|      24|    12756.0|          Japane|      266.88|\n",
            "|        566623|2024-02-14 00:00:00|     21788|11.12|      24|    12756.0|          Japane|      266.88|\n",
            "+--------------+-------------------+----------+-----+--------+-----------+----------------+------------+\n",
            "\n"
          ]
        }
      ],
      "source": [
        "dt_clean.where(dt_clean['customer_country'] == 'Japane').show()"
      ]
    },
    {
      "cell_type": "code",
      "execution_count": 35,
      "metadata": {
        "colab": {
          "base_uri": "https://localhost:8080/"
        },
        "id": "dUjqora22PJJ",
        "outputId": "9d44f83f-cc47-4194-c2fa-47c3703ade13"
      },
      "outputs": [
        {
          "output_type": "stream",
          "name": "stdout",
          "text": [
            "+-----------------------+\n",
            "|customer_country_update|\n",
            "+-----------------------+\n",
            "|              Australia|\n",
            "|                Austria|\n",
            "|                Bahrain|\n",
            "|                Belgium|\n",
            "|                 Brazil|\n",
            "|                 Canada|\n",
            "|        Channel Islands|\n",
            "|                 Cyprus|\n",
            "|         Czech Republic|\n",
            "|                Denmark|\n",
            "|                   EIRE|\n",
            "|     European Community|\n",
            "|                Finland|\n",
            "|                 France|\n",
            "|                Germany|\n",
            "|                 Greece|\n",
            "|              Hong Kong|\n",
            "|                Iceland|\n",
            "|                 Israel|\n",
            "|                  Italy|\n",
            "|                  Japan|\n",
            "|                Lebanon|\n",
            "|              Lithuania|\n",
            "|                  Malta|\n",
            "|            Netherlands|\n",
            "|                 Norway|\n",
            "|                 Poland|\n",
            "|               Portugal|\n",
            "|                    RSA|\n",
            "|           Saudi Arabia|\n",
            "|              Singapore|\n",
            "|                  Spain|\n",
            "|                 Sweden|\n",
            "|            Switzerland|\n",
            "|                    USA|\n",
            "|   United Arab Emirates|\n",
            "|         United Kingdom|\n",
            "|            Unspecified|\n",
            "+-----------------------+\n",
            "\n"
          ]
        }
      ],
      "source": [
        "# convert japane to japan\n",
        "from pyspark.sql.functions import when\n",
        "\n",
        "dt_clean_country = dt_clean.withColumn(\"customer_country_update\", when(dt_clean['customer_country'] == 'Japane', 'Japan').otherwise(dt_clean['customer_country']))\n",
        "dt_clean_country.select(\"customer_country_update\").distinct().sort(\"customer_country_update\").show(40)"
      ]
    },
    {
      "cell_type": "code",
      "execution_count": 36,
      "metadata": {
        "colab": {
          "base_uri": "https://localhost:8080/"
        },
        "id": "9NldxmlK3JvW",
        "outputId": "3c2b5562-d61b-4174-8a87-cec847b97af5"
      },
      "outputs": [
        {
          "output_type": "stream",
          "name": "stdout",
          "text": [
            "+--------------+-------------------+----------+-----+--------+-----------+------------------+----------------+\n",
            "|transaction_id|               date|product_id|price|quantity|customer_id|      total_amount|customer_country|\n",
            "+--------------+-------------------+----------+-----+--------+-----------+------------------+----------------+\n",
            "|        581482|2024-05-10 00:00:00|     22485|21.47|      12|    17490.0|            257.64|  United Kingdom|\n",
            "|        581475|2024-05-10 00:00:00|     22596|10.65|      36|    13069.0|383.40000000000003|  United Kingdom|\n",
            "|        581475|2024-05-10 00:00:00|     23235|11.53|      12|    13069.0|138.35999999999999|  United Kingdom|\n",
            "|        581475|2024-05-10 00:00:00|     23272|10.65|      12|    13069.0|127.80000000000001|  United Kingdom|\n",
            "|        581475|2024-05-10 00:00:00|     23239|11.94|       6|    13069.0|             71.64|  United Kingdom|\n",
            "|        581475|2024-05-10 00:00:00|     21705|10.65|      24|    13069.0|255.60000000000002|  United Kingdom|\n",
            "|        581475|2024-05-10 00:00:00|     22118|11.53|      18|    13069.0|            207.54|  United Kingdom|\n",
            "|        581475|2024-05-10 00:00:00|     22119|12.25|      12|    13069.0|             147.0|  United Kingdom|\n",
            "|        581475|2024-05-10 00:00:00|     22217|10.65|      12|    13069.0|127.80000000000001|  United Kingdom|\n",
            "|        581475|2024-05-10 00:00:00|     22216|10.55|      24|    13069.0|253.20000000000002|  United Kingdom|\n",
            "|        581475|2024-05-10 00:00:00|     22380|11.06|      20|    13069.0|221.20000000000002|  United Kingdom|\n",
            "|        581475|2024-05-10 00:00:00|     22442|12.25|      12|    13069.0|             147.0|  United Kingdom|\n",
            "|        581475|2024-05-10 00:00:00|     22664|11.06|      20|    13069.0|221.20000000000002|  United Kingdom|\n",
            "|        581475|2024-05-10 00:00:00|     22721|12.25|      12|    13069.0|             147.0|  United Kingdom|\n",
            "|        581475|2024-05-10 00:00:00|     22723|11.53|      12|    13069.0|138.35999999999999|  United Kingdom|\n",
            "|        581475|2024-05-10 00:00:00|     22785|11.53|      12|    13069.0|138.35999999999999|  United Kingdom|\n",
            "|        581475|2024-05-10 00:00:00|     22955|11.06|      24|    13069.0|            265.44|  United Kingdom|\n",
            "|        581475|2024-05-10 00:00:00|     23141|11.06|      12|    13069.0|            132.72|  United Kingdom|\n",
            "|        581475|2024-05-10 00:00:00|     22956|11.06|      24|    13069.0|            265.44|  United Kingdom|\n",
            "|        581475|2024-05-10 00:00:00|     22581|10.55|      48|    13069.0|506.40000000000003|  United Kingdom|\n",
            "+--------------+-------------------+----------+-----+--------+-----------+------------------+----------------+\n",
            "only showing top 20 rows\n",
            "\n"
          ]
        }
      ],
      "source": [
        "dt_clean_v2 = dt_clean_country.drop(\"customer_country\").withColumnRenamed('customer_country_update', 'customer_country')\n",
        "dt_clean_v2.show()"
      ]
    },
    {
      "cell_type": "code",
      "execution_count": 37,
      "metadata": {
        "colab": {
          "base_uri": "https://localhost:8080/"
        },
        "id": "jeH-chwg3VGy",
        "outputId": "ec19fc60-56ce-4802-a488-15946f447c32"
      },
      "outputs": [
        {
          "output_type": "stream",
          "name": "stdout",
          "text": [
            "+----------+\n",
            "|product_id|\n",
            "+----------+\n",
            "|     22485|\n",
            "|     22596|\n",
            "|     23235|\n",
            "|     23272|\n",
            "|     23239|\n",
            "|     21705|\n",
            "|     22118|\n",
            "|     22119|\n",
            "|     22217|\n",
            "|     22216|\n",
            "|     22380|\n",
            "|     22442|\n",
            "|     22664|\n",
            "|     22721|\n",
            "|     22723|\n",
            "|     22785|\n",
            "|     22955|\n",
            "|     23141|\n",
            "|     22956|\n",
            "|     22581|\n",
            "|     23198|\n",
            "|     23197|\n",
            "|     23184|\n",
            "|     23168|\n",
            "|     23167|\n",
            "|     23166|\n",
            "|     23165|\n",
            "|     23004|\n",
            "|     23002|\n",
            "|     23000|\n",
            "|     22998|\n",
            "|     22994|\n",
            "|     22835|\n",
            "|     22730|\n",
            "|     22728|\n",
            "|     22727|\n",
            "|     22726|\n",
            "|     22720|\n",
            "|     22693|\n",
            "|     22670|\n",
            "|     22667|\n",
            "|     22666|\n",
            "|     22631|\n",
            "|     22628|\n",
            "|     22467|\n",
            "|     22197|\n",
            "|     22114|\n",
            "|     22112|\n",
            "|     21908|\n",
            "|     21874|\n",
            "|     21872|\n",
            "|     21871|\n",
            "|     21533|\n",
            "|     21481|\n",
            "|     21479|\n",
            "|     21248|\n",
            "|     21216|\n",
            "|     21181|\n",
            "|     21175|\n",
            "|     21169|\n",
            "|     21162|\n",
            "|     21159|\n",
            "|     21158|\n",
            "|     21154|\n",
            "|     16016|\n",
            "|     16014|\n",
            "|     16008|\n",
            "|     85152|\n",
            "|    84596F|\n",
            "|    84596B|\n",
            "|    84510A|\n",
            "|     82600|\n",
            "|     82581|\n",
            "|     72232|\n",
            "|    47559B|\n",
            "|    47504H|\n",
            "|     23493|\n",
            "|     23430|\n",
            "|     23429|\n",
            "|     23428|\n",
            "|     23358|\n",
            "|     23293|\n",
            "|     23243|\n",
            "|     23240|\n",
            "|     48111|\n",
            "|     22464|\n",
            "|     20982|\n",
            "|     20981|\n",
            "|     23424|\n",
            "|     23338|\n",
            "|    84970L|\n",
            "|     22457|\n",
            "|     22469|\n",
            "|     22909|\n",
            "|     84947|\n",
            "|     23503|\n",
            "|     23445|\n",
            "|     23530|\n",
            "|    84997C|\n",
            "|    84997D|\n",
            "+----------+\n",
            "only showing top 100 rows\n",
            "\n"
          ]
        }
      ],
      "source": [
        "# Semantic Anomalies -> Integrity constraints: Values are outside the acceptable range, such as a product_id being longer than it should be\n",
        "\n",
        "dt_clean_v2.select(\"product_id\").show(100)"
      ]
    },
    {
      "cell_type": "code",
      "execution_count": 38,
      "metadata": {
        "colab": {
          "base_uri": "https://localhost:8080/"
        },
        "id": "OiakFMF_35_G",
        "outputId": "d1faf291-296b-43eb-f7e7-4a8a34258b68"
      },
      "outputs": [
        {
          "output_type": "execute_result",
          "data": {
            "text/plain": [
              "536350"
            ]
          },
          "metadata": {},
          "execution_count": 38
        }
      ],
      "source": [
        "dt_clean_v2.select(\"product_id\").count()"
      ]
    },
    {
      "cell_type": "code",
      "execution_count": 39,
      "metadata": {
        "colab": {
          "base_uri": "https://localhost:8080/"
        },
        "id": "U6i0PhTj39Oz",
        "outputId": "099b9ebd-835c-46d4-dc8b-6cf7fa22848e"
      },
      "outputs": [
        {
          "output_type": "execute_result",
          "data": {
            "text/plain": [
              "0.9050601286473385"
            ]
          },
          "metadata": {},
          "execution_count": 39
        }
      ],
      "source": [
        "# product_id equal to 5 characters\n",
        "\n",
        "dt_clean_v2.where(dt_clean_v2[\"product_id\"].rlike(\"^.{5}$\")).count() / dt_clean_v2.count()"
      ]
    },
    {
      "cell_type": "code",
      "execution_count": 40,
      "metadata": {
        "colab": {
          "base_uri": "https://localhost:8080/"
        },
        "id": "XACtODpp4RHL",
        "outputId": "8f7aa437-2aba-490f-bb43-f04d52bdd0b7"
      },
      "outputs": [
        {
          "output_type": "stream",
          "name": "stdout",
          "text": [
            "+--------------+-------------------+----------+-----+--------+-----------+------------------+----------------+\n",
            "|transaction_id|               date|product_id|price|quantity|customer_id|      total_amount|customer_country|\n",
            "+--------------+-------------------+----------+-----+--------+-----------+------------------+----------------+\n",
            "|        581133|2024-05-08 00:00:00|    90030B| 6.04|       6|    14904.0|             36.24|  United Kingdom|\n",
            "|        580727|2024-05-06 00:00:00|    82001S| 5.97|       3|    14096.0|             17.91|  United Kingdom|\n",
            "|        580730|2024-05-06 00:00:00|    82001S| 6.19|       7|    15730.0|43.330000000000005|  United Kingdom|\n",
            "|        580527|2024-05-05 00:00:00|    84997B| 7.24|       1|    13736.0|              7.24|  United Kingdom|\n",
            "|        579777|2024-05-01 00:00:00|    72799E| 6.19|       2|    13777.0|             12.38|  United Kingdom|\n",
            "|        579508|2024-04-30 00:00:00|    85014A| 6.13|       1|    12508.0|              6.13|  United Kingdom|\n",
            "|        579512|2024-04-30 00:00:00|    82001S| 6.13|       2|    14512.0|             12.26|  United Kingdom|\n",
            "|        579512|2024-04-30 00:00:00|    90181A| 7.24|       1|    14512.0|              7.24|  United Kingdom|\n",
            "|        579155|2024-04-29 00:00:00|    85061W| 6.19|       2|    18101.0|             12.38|  United Kingdom|\n",
            "|        578949|2024-04-28 00:00:00|    85099B| 6.19|       1|    14954.0|              6.19|  United Kingdom|\n",
            "+--------------+-------------------+----------+-----+--------+-----------+------------------+----------------+\n",
            "only showing top 10 rows\n",
            "\n"
          ]
        }
      ],
      "source": [
        "dt_correct_product = dt_clean_v2.filter(dt_clean_v2[\"product_id\"].rlike(\"^.{5}$\"))\n",
        "dt_incorrect_product = dt_clean_v2.subtract(dt_correct_product)\n",
        "\n",
        "dt_incorrect_product.show(10)"
      ]
    },
    {
      "cell_type": "code",
      "execution_count": 41,
      "metadata": {
        "id": "_T56PYLE5BJ7"
      },
      "outputs": [],
      "source": [
        "# Use .substring() function to get only the first 5 characters\n",
        "dt_clean_v3 = dt_clean_v2.withColumn('product_id', f.substring('product_id', 1, 5))"
      ]
    },
    {
      "cell_type": "code",
      "execution_count": 42,
      "metadata": {
        "colab": {
          "base_uri": "https://localhost:8080/"
        },
        "id": "LymorTHb5f6d",
        "outputId": "986002b7-09f9-4e16-d658-4dbfe37564b3"
      },
      "outputs": [
        {
          "output_type": "stream",
          "name": "stdout",
          "text": [
            "+--------------+----+----------+-----+--------+-----------+------------+----------------+\n",
            "|transaction_id|date|product_id|price|quantity|customer_id|total_amount|customer_country|\n",
            "+--------------+----+----------+-----+--------+-----------+------------+----------------+\n",
            "+--------------+----+----------+-----+--------+-----------+------------+----------------+\n",
            "\n"
          ]
        }
      ],
      "source": [
        "# check\n",
        "dt_correct_product = dt_clean_v3.filter(dt_clean_v3[\"product_id\"].rlike(\"^.{5}$\"))\n",
        "dt_incorrect_product = dt_clean_v3.subtract(dt_correct_product)\n",
        "\n",
        "dt_incorrect_product.show(10)"
      ]
    },
    {
      "cell_type": "code",
      "execution_count": 43,
      "metadata": {
        "colab": {
          "base_uri": "https://localhost:8080/"
        },
        "id": "Sx_98za75vnb",
        "outputId": "8e16d282-5c82-403f-f63b-8c6b386e2546"
      },
      "outputs": [
        {
          "output_type": "stream",
          "name": "stdout",
          "text": [
            "+--------------+----+----------+-----+--------+-----------+------------+----------------+\n",
            "|transaction_id|date|product_id|price|quantity|customer_id|total_amount|customer_country|\n",
            "+--------------+----+----------+-----+--------+-----------+------------+----------------+\n",
            "|             0|   0|         0|    0|       0|         55|           0|               0|\n",
            "+--------------+----+----------+-----+--------+-----------+------------+----------------+\n",
            "\n"
          ]
        }
      ],
      "source": [
        "# Missing values\n",
        "\n",
        "\n",
        "# check missing values\n",
        "# col -> Spark command to select a column         sum -> Spark command to calculate the sum\n",
        "from pyspark.sql.functions import col, sum\n",
        "\n",
        "dt_nulllist = dt_clean_v3.select([ sum(col(colname).isNull().cast(\"int\")).alias(colname) for colname in dt_clean_v3.columns ])\n",
        "dt_nulllist.show()"
      ]
    },
    {
      "cell_type": "code",
      "execution_count": 44,
      "metadata": {
        "colab": {
          "base_uri": "https://localhost:8080/"
        },
        "id": "WdbgMhKV6eqT",
        "outputId": "5afe1b6e-18e4-42ba-8f59-0a703054a89b"
      },
      "outputs": [
        {
          "output_type": "stream",
          "name": "stdout",
          "text": [
            "+-------+--------------+----------+------+--------+-----------+------------+----------------+\n",
            "|summary|transaction_id|product_id| price|quantity|customer_id|total_amount|customer_country|\n",
            "+-------+--------------+----------+------+--------+-----------+------------+----------------+\n",
            "|  count|        536350|    536350|536350|  536350|     536295|      536350|          536350|\n",
            "+-------+--------------+----------+------+--------+-----------+------------+----------------+\n",
            "\n"
          ]
        }
      ],
      "source": [
        "# check missing values\n",
        "dt_clean_v3.summary(\"count\").show()"
      ]
    },
    {
      "cell_type": "code",
      "execution_count": 45,
      "metadata": {
        "colab": {
          "base_uri": "https://localhost:8080/"
        },
        "id": "uDZKwvg36iiU",
        "outputId": "2c389e5f-bcf3-43b0-94a6-98e58c977042"
      },
      "outputs": [
        {
          "output_type": "stream",
          "name": "stdout",
          "text": [
            "+--------------+-------------------+----------+-----+--------+-----------+-------------------+----------------+\n",
            "|transaction_id|               date|product_id|price|quantity|customer_id|       total_amount|customer_country|\n",
            "+--------------+-------------------+----------+-----+--------+-----------+-------------------+----------------+\n",
            "|       C581406|2024-05-09 00:00:00|     46000| 6.19|    -240|       NULL|-1485.6000000000001|  United Kingdom|\n",
            "|       C581406|2024-05-09 00:00:00|     46000| 6.19|    -300|       NULL|-1857.0000000000002|  United Kingdom|\n",
            "|       C575153|2024-04-09 00:00:00|     22947|44.25|      -1|       NULL|             -44.25|  United Kingdom|\n",
            "|       C574288|2024-04-04 00:00:00|     22178|25.37|      -1|       NULL|             -25.37|  United Kingdom|\n",
            "|       C573180|2024-03-29 00:00:00|     23048| 14.5|      -1|       NULL|              -14.5|  United Kingdom|\n",
            "|       C569495|2024-03-05 00:00:00|     21843|21.47|      -1|       NULL|             -21.47|  United Kingdom|\n",
            "|       C567518|2024-02-20 00:00:00|     22846|27.62|      -1|       NULL|             -27.62|  United Kingdom|\n",
            "|       C567518|2024-02-20 00:00:00|     21871|11.94|     -12|       NULL|            -143.28|  United Kingdom|\n",
            "|       C563015|2024-01-11 00:00:00|     46000|10.25|    -160|       NULL|            -1640.0|  United Kingdom|\n",
            "|       C563015|2024-01-11 00:00:00|     46000|10.25|    -220|       NULL|            -2255.0|  United Kingdom|\n",
            "|       C562617|2024-01-08 00:00:00|     23243|15.32|      -2|       NULL|             -30.64|  United Kingdom|\n",
            "|       C561966|2024-01-01 00:00:00|     22371|14.48|      -1|       NULL|             -14.48|  United Kingdom|\n",
            "|       C562030|2024-01-01 00:00:00|     84595|13.62|      -1|       NULL|             -13.62|  United Kingdom|\n",
            "|       C561239|2023-12-26 00:00:00|     22427|16.35|      -1|       NULL|             -16.35|  United Kingdom|\n",
            "|       C561239|2023-12-26 00:00:00|     22426|14.09|      -1|       NULL|             -14.09|  United Kingdom|\n",
            "|       C561239|2023-12-26 00:00:00|     84755|10.92|      -4|       NULL|             -43.68|  United Kingdom|\n",
            "|       C559949|2023-12-14 00:00:00|     22699|13.27|      -2|       NULL|             -26.54|  United Kingdom|\n",
            "|       C559296|2023-12-07 00:00:00|     23001|10.25|    -200|       NULL|            -2050.0|  United Kingdom|\n",
            "|       C559296|2023-12-07 00:00:00|     22616|10.25|    -204|       NULL|            -2091.0|  United Kingdom|\n",
            "|       C559296|2023-12-07 00:00:00|     23298|10.25|    -170|       NULL|            -1742.5|  United Kingdom|\n",
            "+--------------+-------------------+----------+-----+--------+-----------+-------------------+----------------+\n",
            "only showing top 20 rows\n",
            "\n"
          ]
        }
      ],
      "source": [
        "dt_clean_v3.where( dt_clean_v3.customer_id.isNull() ).show()"
      ]
    },
    {
      "cell_type": "code",
      "execution_count": 46,
      "metadata": {
        "colab": {
          "base_uri": "https://localhost:8080/"
        },
        "id": "BQse0hOO6p0K",
        "outputId": "a0d47201-1da4-4237-ef51-7a3f5af33796"
      },
      "outputs": [
        {
          "output_type": "stream",
          "name": "stdout",
          "text": [
            "+-----------+\n",
            "|customer_id|\n",
            "+-----------+\n",
            "|    17884.0|\n",
            "|    16561.0|\n",
            "|    13956.0|\n",
            "|    14452.0|\n",
            "|    16596.0|\n",
            "|    14768.0|\n",
            "|    13094.0|\n",
            "|    14285.0|\n",
            "|    16916.0|\n",
            "|    17633.0|\n",
            "|    13607.0|\n",
            "|    13918.0|\n",
            "|    14473.0|\n",
            "|    16629.0|\n",
            "|    12671.0|\n",
            "|    14024.0|\n",
            "|    17267.0|\n",
            "|    15776.0|\n",
            "|    12493.0|\n",
            "|    13533.0|\n",
            "+-----------+\n",
            "only showing top 20 rows\n",
            "\n"
          ]
        }
      ],
      "source": [
        "dt_clean_v3.select('customer_id').distinct().show()"
      ]
    },
    {
      "cell_type": "code",
      "execution_count": 47,
      "metadata": {
        "id": "VL-QXlc66vCL"
      },
      "outputs": [],
      "source": [
        "# Replace NULL customer_id values with 00000\n",
        "dt_clean_v4 = dt_clean_v3.withColumn(\"customer_id\", when(dt_clean_v3['customer_id'].isNull(), '00000').otherwise(dt_clean_v3['customer_id']))"
      ]
    },
    {
      "cell_type": "code",
      "execution_count": 48,
      "metadata": {
        "colab": {
          "base_uri": "https://localhost:8080/"
        },
        "id": "4eG-mhOW668f",
        "outputId": "da65269e-3073-450e-b968-4e2e62099b18"
      },
      "outputs": [
        {
          "output_type": "stream",
          "name": "stdout",
          "text": [
            "+--------------+----+----------+-----+--------+-----------+------------+----------------+\n",
            "|transaction_id|date|product_id|price|quantity|customer_id|total_amount|customer_country|\n",
            "+--------------+----+----------+-----+--------+-----------+------------+----------------+\n",
            "+--------------+----+----------+-----+--------+-----------+------------+----------------+\n",
            "\n"
          ]
        }
      ],
      "source": [
        "# check missing value\n",
        "dt_clean_v4.where( dt_clean_v4.customer_id.isNull() ).show()"
      ]
    },
    {
      "cell_type": "code",
      "execution_count": 49,
      "metadata": {
        "colab": {
          "base_uri": "https://localhost:8080/",
          "height": 449
        },
        "id": "xi10MyGQ7Bxg",
        "outputId": "262b6568-65d8-4f05-8c49-d5a17b3608af"
      },
      "outputs": [
        {
          "output_type": "display_data",
          "data": {
            "text/plain": [
              "<Figure size 640x480 with 1 Axes>"
            ],
            "image/png": "[encoded data removed]"
          },
          "metadata": {}
        }
      ],
      "source": [
        "#  Outliers\n",
        "sns.boxplot(x = dt_clean_v4.toPandas()['price']) ;"
      ]
    },
    {
      "cell_type": "code",
      "execution_count": 50,
      "metadata": {
        "colab": {
          "base_uri": "https://localhost:8080/"
        },
        "id": "nUXli7bm7W0E",
        "outputId": "ebae762f-ee0a-4a40-b69e-f6fa594993a8"
      },
      "outputs": [
        {
          "output_type": "stream",
          "name": "stdout",
          "text": [
            "+----------+------+\n",
            "|product_id|price |\n",
            "+----------+------+\n",
            "|22656     |660.62|\n",
            "|22655     |660.62|\n",
            "+----------+------+\n",
            "\n"
          ]
        }
      ],
      "source": [
        "dt_clean_v4.where( dt_clean_v4.price > 600 ).select(\"product_id\", \"price\").distinct().show(truncate = False)"
      ]
    },
    {
      "cell_type": "markdown",
      "metadata": {
        "id": "bp1_Cw6t7jBm"
      },
      "source": [
        "#  Data Cleansing with Spark SQL"
      ]
    },
    {
      "cell_type": "code",
      "execution_count": 51,
      "metadata": {
        "colab": {
          "base_uri": "https://localhost:8080/"
        },
        "id": "pXcVynBs7mLO",
        "outputId": "1811aff4-e26e-4451-c5ce-b4a87962fb70"
      },
      "outputs": [
        {
          "output_type": "stream",
          "name": "stdout",
          "text": [
            "+--------------+----------+----------+-----+--------+-----------+----------------+------------------+\n",
            "|transaction_id|      date|product_id|price|quantity|customer_id|customer_country|      total_amount|\n",
            "+--------------+----------+----------+-----+--------+-----------+----------------+------------------+\n",
            "|        581482|2024-05-10|     22485|21.47|      12|    17490.0|  United Kingdom|            257.64|\n",
            "|        581475|2024-05-10|     22596|10.65|      36|    13069.0|  United Kingdom|383.40000000000003|\n",
            "|        581475|2024-05-10|     23235|11.53|      12|    13069.0|  United Kingdom|138.35999999999999|\n",
            "|        581475|2024-05-10|     23272|10.65|      12|    13069.0|  United Kingdom|127.80000000000001|\n",
            "|        581475|2024-05-10|     23239|11.94|       6|    13069.0|  United Kingdom|             71.64|\n",
            "|        581475|2024-05-10|     21705|10.65|      24|    13069.0|  United Kingdom|255.60000000000002|\n",
            "|        581475|2024-05-10|     22118|11.53|      18|    13069.0|  United Kingdom|            207.54|\n",
            "|        581475|2024-05-10|     22119|12.25|      12|    13069.0|  United Kingdom|             147.0|\n",
            "|        581475|2024-05-10|     22217|10.65|      12|    13069.0|  United Kingdom|127.80000000000001|\n",
            "|        581475|2024-05-10|     22216|10.55|      24|    13069.0|  United Kingdom|253.20000000000002|\n",
            "|        581475|2024-05-10|     22380|11.06|      20|    13069.0|  United Kingdom|221.20000000000002|\n",
            "|        581475|2024-05-10|     22442|12.25|      12|    13069.0|  United Kingdom|             147.0|\n",
            "|        581475|2024-05-10|     22664|11.06|      20|    13069.0|  United Kingdom|221.20000000000002|\n",
            "|        581475|2024-05-10|     22721|12.25|      12|    13069.0|  United Kingdom|             147.0|\n",
            "|        581475|2024-05-10|     22723|11.53|      12|    13069.0|  United Kingdom|138.35999999999999|\n",
            "|        581475|2024-05-10|     22785|11.53|      12|    13069.0|  United Kingdom|138.35999999999999|\n",
            "|        581475|2024-05-10|     22955|11.06|      24|    13069.0|  United Kingdom|            265.44|\n",
            "|        581475|2024-05-10|     23141|11.06|      12|    13069.0|  United Kingdom|            132.72|\n",
            "|        581475|2024-05-10|     22956|11.06|      24|    13069.0|  United Kingdom|            265.44|\n",
            "|        581475|2024-05-10|     22581|10.55|      48|    13069.0|  United Kingdom|506.40000000000003|\n",
            "+--------------+----------+----------+-----+--------+-----------+----------------+------------------+\n",
            "only showing top 20 rows\n",
            "\n"
          ]
        }
      ],
      "source": [
        "# Convert the data from Spark DataFrame to a TempView\n",
        "dt.createOrReplaceTempView(\"data\")\n",
        "dt_sql = spark.sql(\"SELECT * FROM data\")\n",
        "dt_sql.show()"
      ]
    },
    {
      "cell_type": "code",
      "execution_count": 52,
      "metadata": {
        "colab": {
          "base_uri": "https://localhost:8080/"
        },
        "id": "4C0Rrqq877H2",
        "outputId": "6cf12c7c-88a9-48e5-9e59-de08818ee36c"
      },
      "outputs": [
        {
          "output_type": "stream",
          "name": "stdout",
          "text": [
            "+--------------------+\n",
            "|    customer_country|\n",
            "+--------------------+\n",
            "|           Australia|\n",
            "|             Austria|\n",
            "|             Bahrain|\n",
            "|             Belgium|\n",
            "|              Brazil|\n",
            "|              Canada|\n",
            "|     Channel Islands|\n",
            "|              Cyprus|\n",
            "|      Czech Republic|\n",
            "|             Denmark|\n",
            "|                EIRE|\n",
            "|  European Community|\n",
            "|             Finland|\n",
            "|              France|\n",
            "|             Germany|\n",
            "|              Greece|\n",
            "|           Hong Kong|\n",
            "|             Iceland|\n",
            "|              Israel|\n",
            "|               Italy|\n",
            "|               Japan|\n",
            "|              Japane|\n",
            "|             Lebanon|\n",
            "|           Lithuania|\n",
            "|               Malta|\n",
            "|         Netherlands|\n",
            "|              Norway|\n",
            "|              Poland|\n",
            "|            Portugal|\n",
            "|                 RSA|\n",
            "|        Saudi Arabia|\n",
            "|           Singapore|\n",
            "|               Spain|\n",
            "|              Sweden|\n",
            "|         Switzerland|\n",
            "|                 USA|\n",
            "|United Arab Emirates|\n",
            "|      United Kingdom|\n",
            "|         Unspecified|\n",
            "+--------------------+\n",
            "\n"
          ]
        }
      ],
      "source": [
        "dt_sql_country = spark.sql(\"\"\"\n",
        "SELECT distinct customer_country\n",
        "FROM data\n",
        "ORDER BY customer_country\n",
        "\"\"\")\n",
        "dt_sql_country.show(100)"
      ]
    },
    {
      "cell_type": "code",
      "execution_count": 53,
      "metadata": {
        "colab": {
          "base_uri": "https://localhost:8080/"
        },
        "id": "HhNIJkpn8ATi",
        "outputId": "a360bb1b-f371-4425-bc13-08103fb8212f"
      },
      "outputs": [
        {
          "output_type": "stream",
          "name": "stdout",
          "text": [
            "+--------------+----------+----------+-----+--------+-----------+----------------+------------------+\n",
            "|transaction_id|      date|product_id|price|quantity|customer_id|customer_country|      total_amount|\n",
            "+--------------+----------+----------+-----+--------+-----------+----------------+------------------+\n",
            "|        581482|2024-05-10|     22485|21.47|      12|    17490.0|  United Kingdom|            257.64|\n",
            "|        581475|2024-05-10|     22596|10.65|      36|    13069.0|  United Kingdom|383.40000000000003|\n",
            "|        581475|2024-05-10|     23235|11.53|      12|    13069.0|  United Kingdom|138.35999999999999|\n",
            "|        581475|2024-05-10|     23272|10.65|      12|    13069.0|  United Kingdom|127.80000000000001|\n",
            "|        581475|2024-05-10|     23239|11.94|       6|    13069.0|  United Kingdom|             71.64|\n",
            "|        581475|2024-05-10|     21705|10.65|      24|    13069.0|  United Kingdom|255.60000000000002|\n",
            "|        581475|2024-05-10|     22118|11.53|      18|    13069.0|  United Kingdom|            207.54|\n",
            "|        581475|2024-05-10|     22119|12.25|      12|    13069.0|  United Kingdom|             147.0|\n",
            "|        581475|2024-05-10|     22217|10.65|      12|    13069.0|  United Kingdom|127.80000000000001|\n",
            "|        581475|2024-05-10|     22216|10.55|      24|    13069.0|  United Kingdom|253.20000000000002|\n",
            "|        581475|2024-05-10|     22380|11.06|      20|    13069.0|  United Kingdom|221.20000000000002|\n",
            "|        581475|2024-05-10|     22442|12.25|      12|    13069.0|  United Kingdom|             147.0|\n",
            "|        581475|2024-05-10|     22664|11.06|      20|    13069.0|  United Kingdom|221.20000000000002|\n",
            "|        581475|2024-05-10|     22721|12.25|      12|    13069.0|  United Kingdom|             147.0|\n",
            "|        581475|2024-05-10|     22723|11.53|      12|    13069.0|  United Kingdom|138.35999999999999|\n",
            "|        581475|2024-05-10|     22785|11.53|      12|    13069.0|  United Kingdom|138.35999999999999|\n",
            "|        581475|2024-05-10|     22955|11.06|      24|    13069.0|  United Kingdom|            265.44|\n",
            "|        581475|2024-05-10|     23141|11.06|      12|    13069.0|  United Kingdom|            132.72|\n",
            "|        581475|2024-05-10|     22956|11.06|      24|    13069.0|  United Kingdom|            265.44|\n",
            "|        581475|2024-05-10|     22581|10.55|      48|    13069.0|  United Kingdom|506.40000000000003|\n",
            "+--------------+----------+----------+-----+--------+-----------+----------------+------------------+\n",
            "only showing top 20 rows\n",
            "\n"
          ]
        }
      ],
      "source": [
        "# convert Japane to Japan\n",
        "dt_sql_transform = spark.sql(\"\"\"\n",
        "SELECT\n",
        "    transaction_id,\n",
        "    date,\n",
        "    product_id,\n",
        "    price,\n",
        "    quantity,\n",
        "    customer_id,\n",
        "    CASE WHEN customer_country = 'Japane' THEN 'Japan' ELSE customer_country END AS customer_country,\n",
        "    total_amount\n",
        "FROM\n",
        "    data\n",
        "\"\"\")\n",
        "dt_sql_transform.show()"
      ]
    },
    {
      "cell_type": "code",
      "execution_count": 54,
      "metadata": {
        "colab": {
          "base_uri": "https://localhost:8080/"
        },
        "id": "FerzN4Aa8Okn",
        "outputId": "2c9e6410-0804-4680-f743-a28cbdd38703"
      },
      "outputs": [
        {
          "output_type": "stream",
          "name": "stdout",
          "text": [
            "+--------------------+\n",
            "|    customer_country|\n",
            "+--------------------+\n",
            "|           Australia|\n",
            "|             Austria|\n",
            "|             Bahrain|\n",
            "|             Belgium|\n",
            "|              Brazil|\n",
            "|              Canada|\n",
            "|     Channel Islands|\n",
            "|              Cyprus|\n",
            "|      Czech Republic|\n",
            "|             Denmark|\n",
            "|                EIRE|\n",
            "|  European Community|\n",
            "|             Finland|\n",
            "|              France|\n",
            "|             Germany|\n",
            "|              Greece|\n",
            "|           Hong Kong|\n",
            "|             Iceland|\n",
            "|              Israel|\n",
            "|               Italy|\n",
            "|               Japan|\n",
            "|             Lebanon|\n",
            "|           Lithuania|\n",
            "|               Malta|\n",
            "|         Netherlands|\n",
            "|              Norway|\n",
            "|              Poland|\n",
            "|            Portugal|\n",
            "|                 RSA|\n",
            "|        Saudi Arabia|\n",
            "|           Singapore|\n",
            "|               Spain|\n",
            "|              Sweden|\n",
            "|         Switzerland|\n",
            "|                 USA|\n",
            "|United Arab Emirates|\n",
            "|      United Kingdom|\n",
            "|         Unspecified|\n",
            "+--------------------+\n",
            "\n"
          ]
        }
      ],
      "source": [
        "# check result after cleansing\n",
        "dt_sql_transform.select(\"customer_country\").distinct().sort(\"customer_country\").show(50)"
      ]
    },
    {
      "cell_type": "code",
      "execution_count": 55,
      "metadata": {
        "colab": {
          "base_uri": "https://localhost:8080/"
        },
        "id": "jZJTapfr8WMU",
        "outputId": "9a5dd926-7068-4a4d-d951-86493dc9c136"
      },
      "outputs": [
        {
          "output_type": "stream",
          "name": "stdout",
          "text": [
            "+--------------+----------+----------+-----+--------+-----------+----------------+------------------+\n",
            "|transaction_id|      date|product_id|price|quantity|customer_id|customer_country|      total_amount|\n",
            "+--------------+----------+----------+-----+--------+-----------+----------------+------------------+\n",
            "|        581476|2024-05-10|    84596F|10.68|      32|    12433.0|          Norway|            341.76|\n",
            "|        581476|2024-05-10|    84596B|10.68|      16|    12433.0|          Norway|            170.88|\n",
            "|        581476|2024-05-10|    84510A|11.53|      20|    12433.0|          Norway|             230.6|\n",
            "|        581476|2024-05-10|    47559B|11.53|      10|    12433.0|          Norway|             115.3|\n",
            "|        581476|2024-05-10|    47504H|11.06|      36|    12433.0|          Norway|            398.16|\n",
            "|        581477|2024-05-10|    84970L|11.53|      12|    13426.0|  United Kingdom|138.35999999999999|\n",
            "|        581478|2024-05-10|    84997C| 14.5|       4|    17364.0|  United Kingdom|              58.0|\n",
            "|        581478|2024-05-10|    84997D| 14.5|       4|    17364.0|  United Kingdom|              58.0|\n",
            "|        581480|2024-05-10|    84029E|14.61|       8|    14441.0|  United Kingdom|            116.88|\n",
            "|        581480|2024-05-10|    84029G|14.61|      12|    14441.0|  United Kingdom|            175.32|\n",
            "|        581486|2024-05-10|    85099B| 6.19|      10|    17001.0|  United Kingdom|61.900000000000006|\n",
            "|        581492|2024-05-10|    35095A| 6.19|       1|    15492.0|  United Kingdom|              6.19|\n",
            "|        581492|2024-05-10|    35095B| 6.19|       1|    15492.0|  United Kingdom|              6.19|\n",
            "|        581492|2024-05-10|    46776A| 7.24|       2|    15492.0|  United Kingdom|             14.48|\n",
            "|        581492|2024-05-10|    46776B| 7.24|       3|    15492.0|  United Kingdom|             21.72|\n",
            "|        581492|2024-05-10|    46776C| 7.24|       1|    15492.0|  United Kingdom|              7.24|\n",
            "|        581492|2024-05-10|    46776D| 7.24|       2|    15492.0|  United Kingdom|             14.48|\n",
            "|        581492|2024-05-10|    46776E| 7.24|       5|    15492.0|  United Kingdom|              36.2|\n",
            "|        581492|2024-05-10|    46776F| 7.24|       6|    15492.0|  United Kingdom|             43.44|\n",
            "|        581492|2024-05-10|    47310M| 6.19|       1|    15492.0|  United Kingdom|              6.19|\n",
            "+--------------+----------+----------+-----+--------+-----------+----------------+------------------+\n",
            "only showing top 20 rows\n",
            "\n"
          ]
        }
      ],
      "source": [
        "# Check incorrect product_id (character>5)\n",
        "\n",
        "dt_sql_check_productid = spark.sql(\"\"\"\n",
        "SELECT *\n",
        "FROM data\n",
        "WHERE product_id NOT RLIKE '^.{5}$'\n",
        "\"\"\").show()"
      ]
    },
    {
      "cell_type": "code",
      "execution_count": 56,
      "metadata": {
        "colab": {
          "base_uri": "https://localhost:8080/"
        },
        "id": "v_0DKiH28sUn",
        "outputId": "8b41afab-8102-41c3-f76a-a426cd809868"
      },
      "outputs": [
        {
          "output_type": "stream",
          "name": "stdout",
          "text": [
            "+--------------+----------+-----+--------+-----------+----------------+------------------+\n",
            "|transaction_id|product_id|price|quantity|customer_id|customer_country|      total_amount|\n",
            "+--------------+----------+-----+--------+-----------+----------------+------------------+\n",
            "|        581482|     22485|21.47|      12|    17490.0|  United Kingdom|            257.64|\n",
            "|        581475|     22596|10.65|      36|    13069.0|  United Kingdom|383.40000000000003|\n",
            "|        581475|     23235|11.53|      12|    13069.0|  United Kingdom|138.35999999999999|\n",
            "|        581475|     23272|10.65|      12|    13069.0|  United Kingdom|127.80000000000001|\n",
            "|        581475|     23239|11.94|       6|    13069.0|  United Kingdom|             71.64|\n",
            "|        581475|     21705|10.65|      24|    13069.0|  United Kingdom|255.60000000000002|\n",
            "|        581475|     22118|11.53|      18|    13069.0|  United Kingdom|            207.54|\n",
            "|        581475|     22119|12.25|      12|    13069.0|  United Kingdom|             147.0|\n",
            "|        581475|     22217|10.65|      12|    13069.0|  United Kingdom|127.80000000000001|\n",
            "|        581475|     22216|10.55|      24|    13069.0|  United Kingdom|253.20000000000002|\n",
            "|        581475|     22380|11.06|      20|    13069.0|  United Kingdom|221.20000000000002|\n",
            "|        581475|     22442|12.25|      12|    13069.0|  United Kingdom|             147.0|\n",
            "|        581475|     22664|11.06|      20|    13069.0|  United Kingdom|221.20000000000002|\n",
            "|        581475|     22721|12.25|      12|    13069.0|  United Kingdom|             147.0|\n",
            "|        581475|     22723|11.53|      12|    13069.0|  United Kingdom|138.35999999999999|\n",
            "|        581475|     22785|11.53|      12|    13069.0|  United Kingdom|138.35999999999999|\n",
            "|        581475|     22955|11.06|      24|    13069.0|  United Kingdom|            265.44|\n",
            "|        581475|     23141|11.06|      12|    13069.0|  United Kingdom|            132.72|\n",
            "|        581475|     22956|11.06|      24|    13069.0|  United Kingdom|            265.44|\n",
            "|        581475|     22581|10.55|      48|    13069.0|  United Kingdom|506.40000000000003|\n",
            "+--------------+----------+-----+--------+-----------+----------------+------------------+\n",
            "only showing top 20 rows\n",
            "\n"
          ]
        }
      ],
      "source": [
        "# Use CASE WHEN to clean incorect product_id\n",
        "\n",
        "dt_sql_productid_clean = spark.sql(\"\"\"\n",
        "SELECT\n",
        "    transaction_id,\n",
        "    CASE\n",
        "      WHEN length(product_id) > 5\n",
        "      THEN substr(product_id, 1, 5)\n",
        "      ELSE product_id\n",
        "    END AS product_id,\n",
        "    price,\n",
        "    quantity,\n",
        "    customer_id,\n",
        "    customer_country,\n",
        "    total_amount\n",
        "\n",
        "FROM\n",
        "    data\n",
        "\"\"\")\n",
        "dt_sql_productid_clean.show()"
      ]
    },
    {
      "cell_type": "code",
      "execution_count": 57,
      "metadata": {
        "colab": {
          "base_uri": "https://localhost:8080/"
        },
        "id": "4S40vYtg9DhO",
        "outputId": "8c637404-2fbd-4ba5-8d67-dc2dfa629e6c"
      },
      "outputs": [
        {
          "output_type": "stream",
          "name": "stdout",
          "text": [
            "+--------------+----------+-----+--------+-----------+----------------+------------+\n",
            "|transaction_id|product_id|price|quantity|customer_id|customer_country|total_amount|\n",
            "+--------------+----------+-----+--------+-----------+----------------+------------+\n",
            "+--------------+----------+-----+--------+-----------+----------------+------------+\n",
            "\n"
          ]
        }
      ],
      "source": [
        "# Check the result after cleansing\n",
        "dt_sql_productid_clean.filter(~dt_sql_productid_clean[\"product_id\"].rlike(\"^.{5}$\")).show()"
      ]
    },
    {
      "cell_type": "markdown",
      "metadata": {
        "id": "1g8rx-939OAT"
      },
      "source": [
        "# Data Export in PySpark"
      ]
    },
    {
      "cell_type": "code",
      "execution_count": null,
      "metadata": {
        "id": "izyZa0Os9PN1"
      },
      "outputs": [],
      "source": [
        "# Save to a Parquet file\n",
        "dt_clean.write.parquet(\"cleaned_data_output.parquet\")"
      ]
    },
    {
      "cell_type": "code",
      "execution_count": null,
      "metadata": {
        "id": "AODZAR9A9SOR"
      },
      "outputs": [],
      "source": [
        "dt2 = spark.read.parquet(\"cleaned_data_output.parquet\")\n",
        "\n",
        "dt2.show(10)"
      ]
    },
    {
      "cell_type": "code",
      "execution_count": null,
      "metadata": {
        "id": "15THKiSN9gqy"
      },
      "outputs": [],
      "source": [
        "dt_clean.write.mode(\"overwrite\").parquet(\"cleaned_data_output.parquet\")"
      ]
    },
    {
      "cell_type": "code",
      "execution_count": null,
      "metadata": {
        "id": "EeVVMrVR9i4O"
      },
      "outputs": [],
      "source": [
        "# Save to a CSV file\n",
        "dt_clean.write.csv('cleaned_data.csv', header = True)"
      ]
    },
    {
      "cell_type": "code",
      "execution_count": null,
      "metadata": {
        "id": "FKd7wKbp9z93"
      },
      "outputs": [],
      "source": [
        "# Excel\n",
        "dt_clean.toPandas().to_excel(\"output.xlsx\")"
      ]
    }
  ],
  "metadata": {
    "colab": {
      "toc_visible": true,
      "provenance": []
    },
    "kernelspec": {
      "display_name": "Python 3",
      "name": "python3"
    },
    "language_info": {
      "name": "python"
    }
  },
  "nbformat": 4,
  "nbformat_minor": 0
}